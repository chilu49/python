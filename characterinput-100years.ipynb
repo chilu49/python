{
 "cells": [
  {
   "cell_type": "code",
   "execution_count": 5,
   "metadata": {},
   "outputs": [
    {
     "name": "stdout",
     "output_type": "stream",
     "text": [
      "Please enter your age:35\n",
      "Your age after 100 years will be 2082\n",
      "Do you want to enter different age(yes or no):yes\n",
      "Please enter your age:29\n",
      "Your age after 100 years will be 2088\n",
      "Do you want to enter different age(yes or no):no\n"
     ]
    }
   ],
   "source": [
    "import datetime\n",
    "nextentry = 'yes'\n",
    "while (nextentry == 'yes'):\n",
    "    now = datetime.datetime.now()\n",
    "    currentyear = now.year\n",
    "    userage = raw_input(\"Please enter your age:\")\n",
    "    ageafter100years = (int(currentyear) - int(userage)) + 100\n",
    "    print \"Your age after 100 years will be %d\" %(ageafter100years)\n",
    "    nextentry = raw_input(\"Do you want to enter different age(yes or no):\")"
   ]
  },
  {
   "cell_type": "code",
   "execution_count": null,
   "metadata": {
    "collapsed": true
   },
   "outputs": [],
   "source": []
  }
 ],
 "metadata": {
  "kernelspec": {
   "display_name": "Python 2",
   "language": "python",
   "name": "python2"
  },
  "language_info": {
   "codemirror_mode": {
    "name": "ipython",
    "version": 2
   },
   "file_extension": ".py",
   "mimetype": "text/x-python",
   "name": "python",
   "nbconvert_exporter": "python",
   "pygments_lexer": "ipython2",
   "version": "2.7.13"
  }
 },
 "nbformat": 4,
 "nbformat_minor": 2
}
